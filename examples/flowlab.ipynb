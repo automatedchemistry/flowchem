{
 "cells": [
  {
   "cell_type": "markdown",
   "metadata": {},
   "source": [
    "# Flow tests"
   ]
  },
  {
   "cell_type": "code",
   "execution_count": 1,
   "metadata": {
    "pycharm": {
     "name": "#%%\n"
    }
   },
   "outputs": [
    {
     "ename": "ImportError",
     "evalue": "cannot import name '_ureg' from partially initialized module 'mechwolf.components.contrib' (most likely due to a circular import) (c:\\users\\cambie\\pycharmprojects\\mechwolf\\mechwolf\\components\\contrib\\__init__.py)",
     "output_type": "error",
     "traceback": [
      "\u001B[1;31m---------------------------------------------------------------------------\u001B[0m",
      "\u001B[1;31mImportError\u001B[0m                               Traceback (most recent call last)",
      "\u001B[1;32m<ipython-input-1-31d3da070db7>\u001B[0m in \u001B[0;36m<module>\u001B[1;34m\u001B[0m\n\u001B[1;32m----> 1\u001B[1;33m \u001B[1;32mimport\u001B[0m \u001B[0mmechwolf\u001B[0m \u001B[1;32mas\u001B[0m \u001B[0mmw\u001B[0m\u001B[1;33m\u001B[0m\u001B[1;33m\u001B[0m\u001B[0m\n\u001B[0m\u001B[0;32m      2\u001B[0m \u001B[1;32mimport\u001B[0m \u001B[0mos\u001B[0m\u001B[1;33m\u001B[0m\u001B[1;33m\u001B[0m\u001B[0m\n\u001B[0;32m      3\u001B[0m \u001B[1;33m\u001B[0m\u001B[0m\n\u001B[0;32m      4\u001B[0m \u001B[0mos\u001B[0m\u001B[1;33m.\u001B[0m\u001B[0menviron\u001B[0m\u001B[1;33m[\u001B[0m\u001B[1;34m\"PATH\"\u001B[0m\u001B[1;33m]\u001B[0m  \u001B[1;33m+=\u001B[0m \u001B[0mos\u001B[0m\u001B[1;33m.\u001B[0m\u001B[0mpathsep\u001B[0m \u001B[1;33m+\u001B[0m \u001B[1;34mr\"C:\\UserApps\\PyMOL.app\\envs\\MechWolf\\Library\\bin\\graphviz\"\u001B[0m\u001B[1;33m\u001B[0m\u001B[1;33m\u001B[0m\u001B[0m\n\u001B[0;32m      5\u001B[0m \u001B[1;33m\u001B[0m\u001B[0m\n",
      "\u001B[1;32mc:\\users\\cambie\\pycharmprojects\\mechwolf\\mechwolf\\__init__.py\u001B[0m in \u001B[0;36m<module>\u001B[1;34m\u001B[0m\n\u001B[0;32m     15\u001B[0m \u001B[1;33m\u001B[0m\u001B[0m\n\u001B[0;32m     16\u001B[0m \u001B[1;31m# to avoid circular import\u001B[0m\u001B[1;33m\u001B[0m\u001B[1;33m\u001B[0m\u001B[1;33m\u001B[0m\u001B[0m\n\u001B[1;32m---> 17\u001B[1;33m \u001B[1;32mfrom\u001B[0m \u001B[1;33m.\u001B[0m\u001B[0mcore\u001B[0m\u001B[1;33m.\u001B[0m\u001B[0mapparatus\u001B[0m \u001B[1;32mimport\u001B[0m \u001B[0mApparatus\u001B[0m\u001B[1;33m\u001B[0m\u001B[1;33m\u001B[0m\u001B[0m\n\u001B[0m\u001B[0;32m     18\u001B[0m \u001B[1;32mfrom\u001B[0m \u001B[1;33m.\u001B[0m\u001B[0mcore\u001B[0m\u001B[1;33m.\u001B[0m\u001B[0mprotocol\u001B[0m \u001B[1;32mimport\u001B[0m \u001B[0mProtocol\u001B[0m\u001B[1;33m\u001B[0m\u001B[1;33m\u001B[0m\u001B[0m\n\u001B[0;32m     19\u001B[0m \u001B[1;32mfrom\u001B[0m \u001B[1;33m.\u001B[0m\u001B[0mcomponents\u001B[0m \u001B[1;32mimport\u001B[0m \u001B[1;33m*\u001B[0m\u001B[1;33m\u001B[0m\u001B[1;33m\u001B[0m\u001B[0m\n",
      "\u001B[1;32mc:\\users\\cambie\\pycharmprojects\\mechwolf\\mechwolf\\core\\apparatus.py\u001B[0m in \u001B[0;36m<module>\u001B[1;34m\u001B[0m\n\u001B[0;32m     11\u001B[0m \u001B[1;33m\u001B[0m\u001B[0m\n\u001B[0;32m     12\u001B[0m \u001B[1;32mfrom\u001B[0m \u001B[1;33m.\u001B[0m\u001B[1;33m.\u001B[0m \u001B[1;32mimport\u001B[0m \u001B[0m_ureg\u001B[0m\u001B[1;33m\u001B[0m\u001B[1;33m\u001B[0m\u001B[0m\n\u001B[1;32m---> 13\u001B[1;33m \u001B[1;32mfrom\u001B[0m \u001B[1;33m.\u001B[0m\u001B[1;33m.\u001B[0m\u001B[0mcomponents\u001B[0m \u001B[1;32mimport\u001B[0m \u001B[0mComponent\u001B[0m\u001B[1;33m,\u001B[0m \u001B[0mTube\u001B[0m\u001B[1;33m,\u001B[0m \u001B[0mValve\u001B[0m\u001B[1;33m,\u001B[0m \u001B[0mVessel\u001B[0m\u001B[1;33m\u001B[0m\u001B[1;33m\u001B[0m\u001B[0m\n\u001B[0m\u001B[0;32m     14\u001B[0m \u001B[1;33m\u001B[0m\u001B[0m\n\u001B[0;32m     15\u001B[0m \u001B[0mConnection\u001B[0m \u001B[1;33m=\u001B[0m \u001B[0mnamedtuple\u001B[0m\u001B[1;33m(\u001B[0m\u001B[1;34m\"Connection\"\u001B[0m\u001B[1;33m,\u001B[0m \u001B[1;33m[\u001B[0m\u001B[1;34m\"from_component\"\u001B[0m\u001B[1;33m,\u001B[0m \u001B[1;34m\"to_component\"\u001B[0m\u001B[1;33m,\u001B[0m \u001B[1;34m\"tube\"\u001B[0m\u001B[1;33m]\u001B[0m\u001B[1;33m)\u001B[0m\u001B[1;33m\u001B[0m\u001B[1;33m\u001B[0m\u001B[0m\n",
      "\u001B[1;32mc:\\users\\cambie\\pycharmprojects\\mechwolf\\mechwolf\\components\\__init__.py\u001B[0m in \u001B[0;36m<module>\u001B[1;34m\u001B[0m\n\u001B[0;32m      1\u001B[0m \u001B[1;32mfrom\u001B[0m \u001B[0mmechwolf\u001B[0m \u001B[1;32mimport\u001B[0m \u001B[0m_ureg\u001B[0m\u001B[1;33m\u001B[0m\u001B[1;33m\u001B[0m\u001B[0m\n\u001B[0;32m      2\u001B[0m \u001B[1;33m\u001B[0m\u001B[0m\n\u001B[1;32m----> 3\u001B[1;33m \u001B[1;32mfrom\u001B[0m \u001B[1;33m.\u001B[0m\u001B[0mcontrib\u001B[0m \u001B[1;32mimport\u001B[0m \u001B[1;33m*\u001B[0m\u001B[1;33m\u001B[0m\u001B[1;33m\u001B[0m\u001B[0m\n\u001B[0m\u001B[0;32m      4\u001B[0m \u001B[1;32mfrom\u001B[0m \u001B[1;33m.\u001B[0m\u001B[0mstdlib\u001B[0m \u001B[1;32mimport\u001B[0m \u001B[1;33m*\u001B[0m\u001B[1;33m\u001B[0m\u001B[1;33m\u001B[0m\u001B[0m\n",
      "\u001B[1;32mc:\\users\\cambie\\pycharmprojects\\mechwolf\\mechwolf\\components\\contrib\\__init__.py\u001B[0m in \u001B[0;36m<module>\u001B[1;34m\u001B[0m\n\u001B[0;32m      4\u001B[0m \u001B[1;32mfrom\u001B[0m \u001B[1;33m.\u001B[0m\u001B[0mfc203\u001B[0m \u001B[1;32mimport\u001B[0m \u001B[0mGilsonFC203\u001B[0m\u001B[1;33m\u001B[0m\u001B[1;33m\u001B[0m\u001B[0m\n\u001B[0;32m      5\u001B[0m \u001B[1;32mfrom\u001B[0m \u001B[1;33m.\u001B[0m\u001B[0mlabjack\u001B[0m \u001B[1;32mimport\u001B[0m \u001B[0mLabJack\u001B[0m\u001B[1;33m\u001B[0m\u001B[1;33m\u001B[0m\u001B[0m\n\u001B[1;32m----> 6\u001B[1;33m \u001B[1;32mfrom\u001B[0m \u001B[1;33m.\u001B[0m\u001B[0mvarian\u001B[0m \u001B[1;32mimport\u001B[0m \u001B[0mVarianPump\u001B[0m\u001B[1;33m\u001B[0m\u001B[1;33m\u001B[0m\u001B[0m\n\u001B[0m\u001B[0;32m      7\u001B[0m \u001B[1;32mfrom\u001B[0m \u001B[1;33m.\u001B[0m\u001B[0mvici\u001B[0m \u001B[1;32mimport\u001B[0m \u001B[0mViciValve\u001B[0m\u001B[1;33m\u001B[0m\u001B[1;33m\u001B[0m\u001B[0m\n\u001B[0;32m      8\u001B[0m \u001B[1;32mfrom\u001B[0m \u001B[1;33m.\u001B[0m\u001B[0mvicipump\u001B[0m \u001B[1;32mimport\u001B[0m \u001B[0mViciPump\u001B[0m\u001B[1;33m\u001B[0m\u001B[1;33m\u001B[0m\u001B[0m\n",
      "\u001B[1;32mc:\\users\\cambie\\pycharmprojects\\mechwolf\\mechwolf\\components\\contrib\\varian.py\u001B[0m in \u001B[0;36m<module>\u001B[1;34m\u001B[0m\n\u001B[0;32m      1\u001B[0m \u001B[1;32mfrom\u001B[0m \u001B[1;33m.\u001B[0m\u001B[1;33m.\u001B[0m\u001B[0mstdlib\u001B[0m\u001B[1;33m.\u001B[0m\u001B[0mpump\u001B[0m \u001B[1;32mimport\u001B[0m \u001B[0mPump\u001B[0m\u001B[1;33m\u001B[0m\u001B[1;33m\u001B[0m\u001B[0m\n\u001B[1;32m----> 2\u001B[1;33m \u001B[1;32mfrom\u001B[0m \u001B[1;33m.\u001B[0m \u001B[1;32mimport\u001B[0m \u001B[0m_ureg\u001B[0m\u001B[1;33m\u001B[0m\u001B[1;33m\u001B[0m\u001B[0m\n\u001B[0m\u001B[0;32m      3\u001B[0m \u001B[1;33m\u001B[0m\u001B[0m\n\u001B[0;32m      4\u001B[0m \u001B[1;33m\u001B[0m\u001B[0m\n\u001B[0;32m      5\u001B[0m \u001B[1;32mclass\u001B[0m \u001B[0mVarianPump\u001B[0m\u001B[1;33m(\u001B[0m\u001B[0mPump\u001B[0m\u001B[1;33m)\u001B[0m\u001B[1;33m:\u001B[0m\u001B[1;33m\u001B[0m\u001B[1;33m\u001B[0m\u001B[0m\n",
      "\u001B[1;31mImportError\u001B[0m: cannot import name '_ureg' from partially initialized module 'mechwolf.components.contrib' (most likely due to a circular import) (c:\\users\\cambie\\pycharmprojects\\mechwolf\\mechwolf\\components\\contrib\\__init__.py)"
     ]
    }
   ],
   "source": [
    "import mechwolf as mw\n",
    "import flowchem\n",
    "import os\n",
    "\n",
    "os.environ[\"PATH\"]  += os.pathsep + r\"C:\\UserApps\\PyMOL.app\\envs\\MechWolf\\Library\\bin\\graphviz\"\n",
    "\n",
    "# Two feeds\n",
    "substrate = mw.Vessel(\"p-iodobenzotrifluoride 1M in DMAc\", name=\"substrate\")\n",
    "sulfinate = mw.Vessel(\"p-toluensulfinate 2M in DMAc\", name=\"sulfinate\")\n",
    "\n",
    "# Two pumps\n",
    "substrate_pump = mw.KnauerPump(name=\"substrate_pump\", mac_address = '00:80:a3:ce:7e:15')\n",
    "sulfinate_pump = mw.KnauerPump(name=\"sulfinate_pump\", mac_address = '00:80:a3:ba:bf:e2')\n",
    "\n",
    "# Mixer\n",
    "mixer = mw.TMixer(name='mixer')\n",
    "\n",
    "# Reactor\n",
    "reactor = mw.Vessel(\"Photoreactor\", name=\"reactor\")\n",
    "\n",
    "# Analytics\n",
    "# nmr = mw.Spinsolve(name=\"Proton\")\n",
    "\n",
    "A = mw.Apparatus(\"Synthesizer\")\n",
    "\n",
    "def tefzel(len):\n",
    "    return mw.Tube(length=len, ID=\"1.0 mm\", OD=\"1/16 in\", material=\"Tefzel\")\n",
    "\n",
    "# TUBING\n",
    "\n",
    "# bottle to pump\n",
    "A.add(substrate, substrate_pump, tefzel(\"20 cm\"))\n",
    "A.add(sulfinate, sulfinate_pump, tefzel(\"20 cm\"))\n",
    "\n",
    "# Pump to mixer\n",
    "A.add([substrate_pump, sulfinate_pump] , mixer, tefzel(\"20 cm\"))\n",
    "\n",
    "# Mixer to reactor\n",
    "A.add(mixer, reactor, tefzel(\"20 cm\"))\n",
    "\n",
    "A.describe()\n",
    "A.visualize(graph_attr=dict(splines=\"ortho\", nodesep=\"0.75\"), label_tubes=False)\n",
    "\n",
    "P = mw.Protocol(A)\n",
    "\n",
    "from datetime import timedelta\n",
    "\n",
    "rinse_duration = timedelta(seconds=2)\n",
    "start = timedelta(seconds=0)\n",
    "\n",
    "# P.add([substrate_pump, sulfinate_pump], start=start, duration=rinse_duration, setting=\"dmf\")\n",
    "P.add([substrate_pump, sulfinate_pump], start=start, duration=rinse_duration, rate=\"1 mL/min\")\n",
    "\n",
    "P.visualize()\n",
    "print(P)\n",
    "\n",
    "E = P.execute(dry_run=False)"
   ]
  },
  {
   "cell_type": "code",
   "execution_count": null,
   "metadata": {
    "pycharm": {
     "name": "#%%\n"
    }
   },
   "outputs": [],
   "source": [
    "#Visualize the experiment with live updating\n",
    "E.visualize()"
   ]
  },
  {
   "cell_type": "code",
   "execution_count": null,
   "metadata": {
    "pycharm": {
     "name": "#%%\n"
    }
   },
   "outputs": [],
   "source": [
    "#Inspect the protocol steps that ran successfully.\n",
    "E.protocol.json()"
   ]
  }
 ],
 "metadata": {
  "kernelspec": {
   "display_name": "Python 3 (ipykernel)",
   "language": "python",
   "name": "python3"
  },
  "language_info": {
   "codemirror_mode": {
    "name": "ipython",
    "version": 3
   },
   "file_extension": ".py",
   "mimetype": "text/x-python",
   "name": "python",
   "nbconvert_exporter": "python",
   "pygments_lexer": "ipython3",
   "version": "3.9.7"
  }
 },
 "nbformat": 4,
 "nbformat_minor": 1
}